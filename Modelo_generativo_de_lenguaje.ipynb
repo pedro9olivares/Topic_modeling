{
  "nbformat": 4,
  "nbformat_minor": 0,
  "metadata": {
    "colab": {
      "name": "Modelo_generativo_de_lenguaje.ipynb",
      "provenance": [],
      "collapsed_sections": [],
      "toc_visible": true,
      "authorship_tag": "ABX9TyNIqRppjak8D5zsD8re0Tdd",
      "include_colab_link": true
    },
    "kernelspec": {
      "name": "python3",
      "display_name": "Python 3"
    },
    "language_info": {
      "name": "python"
    }
  },
  "cells": [
    {
      "cell_type": "markdown",
      "metadata": {
        "id": "view-in-github",
        "colab_type": "text"
      },
      "source": [
        "<a href=\"https://colab.research.google.com/github/pedro9olivares/ML_and_AI_for_the_Working_Analyst/blob/main/Modelo_generativo_de_lenguaje.ipynb\" target=\"_parent\"><img src=\"https://colab.research.google.com/assets/colab-badge.svg\" alt=\"Open In Colab\"/></a>"
      ]
    },
    {
      "cell_type": "markdown",
      "source": [
        "# Introducción: carga de datos y exploración"
      ],
      "metadata": {
        "id": "we4voZwrmfcX"
      }
    },
    {
      "cell_type": "code",
      "execution_count": null,
      "metadata": {
        "colab": {
          "base_uri": "https://localhost:8080/"
        },
        "id": "oz24UjQvHZ9Z",
        "outputId": "fc61b7a5-efe1-4022-e78f-d16949108056"
      },
      "outputs": [
        {
          "output_type": "stream",
          "name": "stdout",
          "text": [
            "Collecting contractions\n",
            "  Downloading contractions-0.1.68-py2.py3-none-any.whl (8.1 kB)\n",
            "Collecting textsearch>=0.0.21\n",
            "  Downloading textsearch-0.0.21-py2.py3-none-any.whl (7.5 kB)\n",
            "Collecting anyascii\n",
            "  Downloading anyascii-0.3.0-py3-none-any.whl (284 kB)\n",
            "\u001b[K     |████████████████████████████████| 284 kB 4.3 MB/s \n",
            "\u001b[?25hCollecting pyahocorasick\n",
            "  Downloading pyahocorasick-1.4.4-cp37-cp37m-manylinux_2_17_x86_64.manylinux2014_x86_64.whl (106 kB)\n",
            "\u001b[K     |████████████████████████████████| 106 kB 54.0 MB/s \n",
            "\u001b[?25hInstalling collected packages: pyahocorasick, anyascii, textsearch, contractions\n",
            "Successfully installed anyascii-0.3.0 contractions-0.1.68 pyahocorasick-1.4.4 textsearch-0.0.21\n"
          ]
        }
      ],
      "source": [
        "!pip install contractions"
      ]
    },
    {
      "cell_type": "code",
      "source": [
        "import pandas as pd\n",
        "import numpy as np\n",
        "\n",
        "import re               # módulo operaciones expresiones regulares\n",
        "import operator\n",
        "\n",
        "import contractions\n",
        "from collections import Counter\n",
        "import random \n",
        "\n",
        "import matplotlib.pyplot as plt"
      ],
      "metadata": {
        "id": "XJAGiB1tHvnP"
      },
      "execution_count": null,
      "outputs": []
    },
    {
      "cell_type": "code",
      "source": [
        "def leer_libro(archivo_txt):\n",
        "  '''Función para leer un archivo en formato .txt'''\n",
        "  with open(archivo_txt, \"r\", encoding=\"utf8\") as f:\n",
        "    texto = f.read()\n",
        "    texto = texto.replace(\"\\n\", \"\").replace(\"\\r\", \"\") \n",
        "  return texto\n",
        "\n",
        "def limpiar_texto(texto):\n",
        "  '''Función para convertir a minúsculas, quitar signos de puntuación,\n",
        "  números y tildes'''\n",
        "  #Quitar contracciones\n",
        "  texto = contractions.fix(texto)\n",
        "  \n",
        "  #Convertir en mínusculas \n",
        "  texto = texto.lower()\n",
        "\n",
        "  #Quitar puntuación y números\n",
        "  texto = re.sub('[^ña-z]+', ' ', texto)\n",
        "\n",
        "  return texto\n",
        "\n",
        "def obtener_ngramas(texto, N):\n",
        "    palabras_en_texto = texto.split()\n",
        "    \n",
        "    ngramas = (tuple(palabras_en_texto[i:i+N]) for i in range(len(palabras_en_texto)-N+1))\n",
        "    return ngramas"
      ],
      "metadata": {
        "id": "c3OybwKDIGFL"
      },
      "execution_count": null,
      "outputs": []
    },
    {
      "cell_type": "code",
      "source": [
        "!wget https://raw.githubusercontent.com/sharanyavb/harry-potter/master/Books_Text/HP1.txt"
      ],
      "metadata": {
        "colab": {
          "base_uri": "https://localhost:8080/"
        },
        "id": "UAAa8PBbIr6A",
        "outputId": "97df99cd-b03d-4b17-a2ed-b52cf7ad6d36"
      },
      "execution_count": null,
      "outputs": [
        {
          "output_type": "stream",
          "name": "stdout",
          "text": [
            "--2022-03-19 04:02:28--  https://raw.githubusercontent.com/sharanyavb/harry-potter/master/Books_Text/HP1.txt\n",
            "Resolving raw.githubusercontent.com (raw.githubusercontent.com)... 185.199.110.133, 185.199.109.133, 185.199.111.133, ...\n",
            "Connecting to raw.githubusercontent.com (raw.githubusercontent.com)|185.199.110.133|:443... connected.\n",
            "HTTP request sent, awaiting response... 200 OK\n",
            "Length: 492006 (480K) [text/plain]\n",
            "Saving to: ‘HP1.txt.1’\n",
            "\n",
            "HP1.txt.1           100%[===================>] 480.47K  --.-KB/s    in 0.04s   \n",
            "\n",
            "2022-03-19 04:02:28 (10.9 MB/s) - ‘HP1.txt.1’ saved [492006/492006]\n",
            "\n"
          ]
        }
      ]
    },
    {
      "cell_type": "code",
      "source": [
        "libro = leer_libro('/content/HP1.txt')\n",
        "\n",
        "libro[:1500]"
      ],
      "metadata": {
        "colab": {
          "base_uri": "https://localhost:8080/",
          "height": 126
        },
        "id": "dQWm5w1kVz_N",
        "outputId": "5b765a7c-49cc-4d90-c491-67f0cc6c715f"
      },
      "execution_count": null,
      "outputs": [
        {
          "output_type": "execute_result",
          "data": {
            "text/plain": [
              "'THE BOY WHO LIVED Mr. and Mrs. Dursley, of number four, Privet Drive, were proud to say that they were perfectly normal, thank you very much. They were the last people you’d expect to be involved in anything strange or mysterious, because they just didn’t hold with such nonsense. Mr. Dursley was the director of a firm called Grunnings, which made drills. He was a big, beefy man with hardly any neck, although he did have a very large mustache. Mrs. Dursley was thin and blonde and had nearly twice the usual amount of neck, which came in very useful as she spent so much of her time craning over garden fences, spying on the neighbors. The Dursley s had a small son called Dudley and in their opinion there was no finer boy anywhere. The Dursleys had everything they wanted, but they also had a secret, and their greatest fear was that somebody would discover it. They didn’t think they could bear it if anyone found out about the Potters. Mrs. Potter was Mrs. Dursley’s sister, but they hadn’t Page | 2 Harry Potter and the Philosophers Stone - J.K. Rowling met for several years; in fact, Mrs. Dursley pretended she didn’t have a sister, because her sister and her good-for-nothing husband were as unDursleyish as it was possible to be. The Dursleys shuddered to think what the neighbors would say if the Potters arrived in the street. The Dursleys knew that the Potters had a small son, too, but they had never even seen him. This boy was another good reason for keeping the Potters away; they '"
            ],
            "application/vnd.google.colaboratory.intrinsic+json": {
              "type": "string"
            }
          },
          "metadata": {},
          "execution_count": 42
        }
      ]
    },
    {
      "cell_type": "code",
      "source": [
        "# Lista con cadenas correspondientes al pie de página para borrar.\n",
        "borrar = ['Page | {} Harry Potter and the Philosophers Stone - J.K. Rowling'.format(i)\\\n",
        "         for i in range(2,347)]\n",
        "\n",
        "for tx in borrar:\n",
        "    libro = libro.replace(tx, '')\n",
        "\n",
        "libro_limpio = limpiar_texto(libro)"
      ],
      "metadata": {
        "id": "s0M_Mr8YWG2c"
      },
      "execution_count": null,
      "outputs": []
    },
    {
      "cell_type": "code",
      "source": [
        "#Counter(libro_limpio.split()).items()  # Counter es una \"colección\" donde los elementos encontrados en\n",
        "                                # cualquier objeto iterable son guardados como claves de un \n",
        "                                # diccionario y el conteo como valores\n"
      ],
      "metadata": {
        "id": "wGQEIZ-xWZkp"
      },
      "execution_count": null,
      "outputs": []
    },
    {
      "cell_type": "code",
      "source": [
        "palabras_frecuencia = Counter(libro_limpio.split())\n",
        "vocabulario = list(palabras_frecuencia.keys())\n",
        "print('Palabras en el vocabulario del libro: ', len(vocabulario))"
      ],
      "metadata": {
        "colab": {
          "base_uri": "https://localhost:8080/"
        },
        "id": "pRMzlYq0Wv9j",
        "outputId": "08b65602-cefc-4f81-edb4-933b26648558"
      },
      "execution_count": null,
      "outputs": [
        {
          "output_type": "stream",
          "name": "stdout",
          "text": [
            "Palabras en el vocabulario del libro:  5705\n"
          ]
        }
      ]
    },
    {
      "cell_type": "code",
      "source": [
        "Probabilidad_palabra = {k : v /len(vocabulario) for k, v in palabras_frecuencia.most_common(80)}\n",
        "\n",
        "x, y  = zip(*sorted(Probabilidad_palabra.items(),key=operator.itemgetter(1), reverse=True))\n",
        "\n",
        "fig = plt.figure(figsize=(15,5))\n",
        "plt.bar(x,y, \n",
        "        color='darkgreen',\n",
        "        alpha=0.5)\n",
        "plt.xticks(rotation=90, fontsize=12)\n",
        "plt.title('Probabilidad de ocurrencia de las palabras en el libro.')\n",
        "plt.show()"
      ],
      "metadata": {
        "colab": {
          "base_uri": "https://localhost:8080/",
          "height": 398
        },
        "id": "3HaqjuBuW9GC",
        "outputId": "7ea181b3-9ab4-4c58-f93b-752c5f4fabd1"
      },
      "execution_count": null,
      "outputs": [
        {
          "output_type": "display_data",
          "data": {
            "text/plain": [
              "<Figure size 1080x360 with 1 Axes>"
            ],
            "image/png": "[encoded data removed]"
          },
          "metadata": {
            "needs_background": "light"
          }
        }
      ]
    },
    {
      "cell_type": "markdown",
      "source": [
        "# Generación de texto con distribución uniforme"
      ],
      "metadata": {
        "id": "Zp92sMBKXTB8"
      }
    },
    {
      "cell_type": "code",
      "source": [
        "palabras = []  # Inicializamos la lista de palabras\n",
        "\n",
        "#  Escogemos la primera palabra de manera aleatoriamente con distribución uniforme\n",
        "palabra_selec = vocabulario[np.random.randint(0, len(vocabulario))] \n",
        "palabras.append(palabra_selec)\n",
        "\n",
        "''.join(palabras)"
      ],
      "metadata": {
        "colab": {
          "base_uri": "https://localhost:8080/",
          "height": 35
        },
        "id": "YyBGDB7gXqOy",
        "outputId": "1f999345-4ea5-4bc9-ca3f-c6a149623fc0"
      },
      "execution_count": null,
      "outputs": [
        {
          "output_type": "execute_result",
          "data": {
            "text/plain": [
              "'marge'"
            ],
            "application/vnd.google.colaboratory.intrinsic+json": {
              "type": "string"
            }
          },
          "metadata": {},
          "execution_count": 47
        }
      ]
    },
    {
      "cell_type": "code",
      "source": [
        "long = 10\n",
        "for _ in range(long):\n",
        "    palabra_selec = vocabulario[np.random.randint(0, len(vocabulario))]  \n",
        "    palabras.append(palabra_selec)\n",
        "\n",
        "' '.join(palabras)"
      ],
      "metadata": {
        "colab": {
          "base_uri": "https://localhost:8080/",
          "height": 35
        },
        "id": "ExJanE6gYPgz",
        "outputId": "6913d995-d57e-4f27-fff1-f0eb75da5fa6"
      },
      "execution_count": null,
      "outputs": [
        {
          "output_type": "execute_result",
          "data": {
            "text/plain": [
              "'marge pawed boarhound rubbed served numbly in ward breeze impossible means'"
            ],
            "application/vnd.google.colaboratory.intrinsic+json": {
              "type": "string"
            }
          },
          "metadata": {},
          "execution_count": 48
        }
      ]
    },
    {
      "cell_type": "code",
      "source": [
        "' '.join(np.random.choice(vocabulario,15))"
      ],
      "metadata": {
        "colab": {
          "base_uri": "https://localhost:8080/",
          "height": 35
        },
        "id": "PO41c_kOYrLN",
        "outputId": "a626fbea-0adf-406c-cbea-879dee69b98c"
      },
      "execution_count": null,
      "outputs": [
        {
          "output_type": "execute_result",
          "data": {
            "text/plain": [
              "'macdougal whimpering ring wandered such argued shriek tuesday wished fool achieve barrier runnin threatening p'"
            ],
            "application/vnd.google.colaboratory.intrinsic+json": {
              "type": "string"
            }
          },
          "metadata": {},
          "execution_count": 49
        }
      ]
    },
    {
      "cell_type": "code",
      "source": [
        "' '.join(random.sample(libro_limpio.split(),15))    #Distribución en el libro"
      ],
      "metadata": {
        "colab": {
          "base_uri": "https://localhost:8080/",
          "height": 35
        },
        "id": "yODr_aiHY_qO",
        "outputId": "37fdea94-fb85-4527-e968-21107b30f8cc"
      },
      "execution_count": null,
      "outputs": [
        {
          "output_type": "execute_result",
          "data": {
            "text/plain": [
              "'you in so noise into fluttered loudly the the not be mom professor its harry'"
            ],
            "application/vnd.google.colaboratory.intrinsic+json": {
              "type": "string"
            }
          },
          "metadata": {},
          "execution_count": 50
        }
      ]
    },
    {
      "cell_type": "markdown",
      "source": [
        " # Generación de texto usando n-gramas y la distribución real\n"
      ],
      "metadata": {
        "id": "JfHEjKUvYvgV"
      }
    },
    {
      "cell_type": "code",
      "source": [
        "unigramas = palabras_frecuencia\n",
        "print('Unigramas Unicos: ', len(unigramas), end='\\n\\n')\n",
        "unigramas.most_common(5)"
      ],
      "metadata": {
        "colab": {
          "base_uri": "https://localhost:8080/"
        },
        "id": "Ev7SF3UQZJ95",
        "outputId": "90ad00f1-8cce-4aa0-dc84-8c4aae65d8c2"
      },
      "execution_count": null,
      "outputs": [
        {
          "output_type": "stream",
          "name": "stdout",
          "text": [
            "Unigramas Unicos:  5705\n",
            "\n"
          ]
        },
        {
          "output_type": "execute_result",
          "data": {
            "text/plain": [
              "[('the', 3651), ('and', 1935), ('to', 1872), ('he', 1757), ('a', 1687)]"
            ]
          },
          "metadata": {},
          "execution_count": 51
        }
      ]
    },
    {
      "cell_type": "code",
      "source": [
        "bigramas = Counter(obtener_ngramas(libro_limpio, 2))\n",
        "print('Bigramas Unicos: ', len(bigramas), end='\\n\\n')\n",
        "bigramas.most_common(5)"
      ],
      "metadata": {
        "colab": {
          "base_uri": "https://localhost:8080/"
        },
        "id": "eyczz52kZR6q",
        "outputId": "05cd48a8-f12a-4cd4-d2c9-0c2b7940ce61"
      },
      "execution_count": null,
      "outputs": [
        {
          "output_type": "stream",
          "name": "stdout",
          "text": [
            "Bigramas Unicos:  41299\n",
            "\n"
          ]
        },
        {
          "output_type": "execute_result",
          "data": {
            "text/plain": [
              "[(('of', 'the'), 305),\n",
              " (('in', 'the'), 270),\n",
              " (('it', 'was'), 227),\n",
              " (('on', 'the'), 218),\n",
              " (('he', 'was'), 209)]"
            ]
          },
          "metadata": {},
          "execution_count": 52
        }
      ]
    },
    {
      "cell_type": "code",
      "source": [
        "trigramas = Counter(obtener_ngramas(libro_limpio,3))\n",
        "trigramas.most_common(5)"
      ],
      "metadata": {
        "colab": {
          "base_uri": "https://localhost:8080/"
        },
        "id": "LndjXLwlZWJh",
        "outputId": "c637f3cb-0a2c-4155-bed6-47081f3f5a14"
      },
      "execution_count": null,
      "outputs": [
        {
          "output_type": "execute_result",
          "data": {
            "text/plain": [
              "[(('out', 'of', 'the'), 63),\n",
              " (('i', 'do', 'not'), 46),\n",
              " (('he', 'did', 'not'), 38),\n",
              " (('harry', 'and', 'ron'), 37),\n",
              " (('there', 'was', 'a'), 35)]"
            ]
          },
          "metadata": {},
          "execution_count": 53
        }
      ]
    },
    {
      "cell_type": "code",
      "source": [
        "def probabilidad_unigrama(token):\n",
        "    if token not in unigramas:\n",
        "        return 0\n",
        "    return unigramas[token] / len(vocabulario)\n",
        "    \n",
        "def probabilidad_bigrama(secuencia):\n",
        "    if secuencia not in bigramas:\n",
        "        return 0\n",
        "    return bigramas[secuencia] / unigramas[secuencia[0]]\n",
        "    \n",
        "def probabilidad_trigrama(secuencia):\n",
        "    if secuencia not in trigramas:\n",
        "        return 0\n",
        "    return trigramas[secuencia] / bigramas[secuencia[:2]]\n",
        "\n",
        "def selecciona_siguiente_token(secuencia):\n",
        "    lista_palabras_candidatos = []\n",
        "    \n",
        "    # Itera por todos los tokens del vocabulario\n",
        "    # calculando la probabilidad de seleccionar la siguiente palabra\n",
        "    for p in vocabulario:\n",
        "        Prob1 = probabilidad_unigrama(p)\n",
        "        Prob2 = probabilidad_bigrama((secuencia[-1], p))\n",
        "        Prob3 = probabilidad_trigrama((secuencia[-2], secuencia[-1], p)) if len(secuencia) >= 3 else 0\n",
        "        \n",
        "        # Usamos una interpolación lineal\n",
        "        Probabilidad =  0.05*Prob1 + 0.35*Prob2 + 0.60*Prob3\n",
        "        \n",
        "        lista_palabras_candidatos.append((p, Probabilidad))\n",
        "    \n",
        "    # Ordenamos la lista de mayor a menor probabilidad\n",
        "    lista_palabras_candidatos.sort(key=lambda x: x[1], reverse=True)\n",
        "    return lista_palabras_candidatos[0][0]"
      ],
      "metadata": {
        "id": "skCV9PsHZou0"
      },
      "execution_count": null,
      "outputs": []
    },
    {
      "cell_type": "code",
      "source": [
        "palabras = []\n",
        "longitud_texto = 100\n",
        "\n",
        "#  Escogemos la primera palabra de manera aleatoriamente con distribución uniforme\n",
        "palabra_selec = vocabulario[np.random.randint(0, len(vocabulario))] \n",
        "palabras.append(palabra_selec)\n",
        "\n",
        "for _ in range(longitud_texto-1):\n",
        "    palabra_selec = selecciona_siguiente_token(palabras)\n",
        "    palabras.append(palabra_selec)\n",
        "\" \".join(palabras)"
      ],
      "metadata": {
        "colab": {
          "base_uri": "https://localhost:8080/",
          "height": 72
        },
        "id": "quPsJbPIZ-v-",
        "outputId": "0fa5ce88-5398-495a-a19f-0a1153e57eb5"
      },
      "execution_count": null,
      "outputs": [
        {
          "output_type": "execute_result",
          "data": {
            "text/plain": [
              "'shaggy head and the philosophers stone j k rowling the school harry was not going to be a bit of a large pink face not much room dudley was now so busy with the dursleys had never seen before were the only one who has gone dumbledore said harry and ron were still to come and have a good idea of harry s the only one who has gone dumbledore said harry and ron were still to come and have a good idea of harry s the only one who has gone dumbledore said harry and ron were still to'"
            ],
            "application/vnd.google.colaboratory.intrinsic+json": {
              "type": "string"
            }
          },
          "metadata": {},
          "execution_count": 61
        }
      ]
    }
  ]
}
